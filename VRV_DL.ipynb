{
  "cells": [
    {
      "cell_type": "code",
      "execution_count": null,
      "metadata": {
        "cellView": "form",
        "id": "aAccqSwqvTRA"
      },
      "outputs": [],
      "source": [
        "#@title **Mount G-Drive**\n",
        "from google.colab import drive\n",
        "drive.mount('/content/drive')"
      ]
    },
    {
      "cell_type": "code",
      "execution_count": null,
      "metadata": {
        "id": "sbClWFJbILXk"
      },
      "outputs": [],
      "source": [
        "#@title **Install YT-DLP and MKVToolnix** { display-mode: \"form\" }\n",
        "!pip install yt-dlp\n",
        "!sudo sh -c 'echo \"deb https://mkvtoolnix.download/ubuntu/ $(lsb_release -sc) main\" >> /etc/apt/sources.list.d/bunkus.org.list'\n",
        "!wget -q -O - https://mkvtoolnix.download/gpg-pub-moritzbunkus.txt | sudo apt-key add -\n",
        "!sudo apt-get -qq update\n",
        "!sudo apt-get -qq install mkvtoolnix mkvtoolnix-gui\n",
        "!mkvmerge -V"
      ]
    },
    {
      "cell_type": "code",
      "execution_count": null,
      "metadata": {
        "cellView": "form",
        "id": "AvANxRJSX7rL"
      },
      "outputs": [],
      "source": [
        "#@title **YT-DLP**\n",
        "# ============================= FORM ============================= #\n",
        "VRV_Link =\"\" #@param {type:\"string\"}\n",
        "Output_Dir = \"\" #@param {type:\"string\"}\n",
        "Playlist_Items = \"\" #@param {type:\"string\"}\n",
        "Username = \"\" #@param {type:\"string\"}\n",
        "Password = \"\" #@param {type:\"string\"}\n",
        "# ============================= FORM ============================= #\n",
        "!yt-dlp -f \"dash-audio-ja-JP-f2-v1-x3+dash-audio-ja-JP-f1-a1-x3\" $VRV_Link -o $Output_Dir\"/%(episode_number)02d - %(title)s.%(ext)s\" -u $Username -p $Password --all-subs --sub-format ass --embed-subs --merge-output-format mkv --playlist-items $Playlist_Items"
      ]
    },
    {
      "cell_type": "code",
      "execution_count": null,
      "metadata": {
        "id": "vrzzLDpWTeWY"
      },
      "outputs": [],
      "source": [
        "#@title MKVMerge Arguments (WIP) { display-mode: \"code\" }\n",
        "!mkvmerge "
      ]
    }
  ],
  "metadata": {
    "colab": {
      "collapsed_sections": [],
      "name": "VRV_DL.ipynb",
      "provenance": []
    },
    "kernelspec": {
      "display_name": "Python 3",
      "name": "python3"
    },
    "language_info": {
      "name": "python"
    }
  },
  "nbformat": 4,
  "nbformat_minor": 0
}
