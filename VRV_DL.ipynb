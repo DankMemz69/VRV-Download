{
  "nbformat": 4,
  "nbformat_minor": 0,
  "metadata": {
    "colab": {
      "name": "VRV_DL.ipynb",
      "provenance": [],
      "collapsed_sections": []
    },
    "kernelspec": {
      "display_name": "Python 3",
      "name": "python3"
    },
    "language_info": {
      "name": "python"
    }
  },
  "cells": [
    {
      "cell_type": "code",
      "metadata": {
        "cellView": "form",
        "id": "aAccqSwqvTRA"
      },
      "source": [
        "#@title **Mount G-Drive**\n",
        "from google.colab import drive\n",
        "drive.mount('/content/drive')"
      ],
      "execution_count": null,
      "outputs": []
    },
    {
      "cell_type": "code",
      "metadata": {
        "id": "sbClWFJbILXk"
      },
      "source": [
        "#@title **Install YT-DLP and MKVToolnix** { display-mode: \"form\" }\n",
        "!sudo wget https://github.com/yt-dlp/yt-dlp/releases/latest/download/yt-dlp -O /usr/local/bin/yt-dlp && chmod a+rx /usr/local/bin/yt-dlp\n",
        "!sudo sh -c 'echo \"deb https://mkvtoolnix.download/ubuntu/ $(lsb_release -sc) main\" >> /etc/apt/sources.list.d/bunkus.org.list'\n",
        "!wget -q -O - https://mkvtoolnix.download/gpg-pub-moritzbunkus.txt | sudo apt-key add -\n",
        "!sudo apt-get -qq update\n",
        "!sudo apt-get -qq install mkvtoolnix mkvtoolnix-gui\n",
        "!mkvmerge -V"
      ],
      "execution_count": null,
      "outputs": []
    },
    {
      "cell_type": "code",
      "metadata": {
        "id": "AvANxRJSX7rL",
        "cellView": "form"
      },
      "source": [
        "#@title **YT-DLP**\n",
        "# ============================= FORM ============================= #\n",
        "VRV_Link =\"\" #@param {type:\"string\"}\n",
        "Output_Dir = \"\" #@param {type:\"string\"}\n",
        "Playlist_Items = \"\" #@param {type:\"string\"}\n",
        "# ============================= FORM ============================= #\n",
        "!yt-dlp -f \"dash-audio-ja-JP-f2-v1-x3+dash-audio-ja-JP-f1-a1-x3\" $VRV_Link -o $Output_Dir\"/%(episode_number)02d - %(title)s.%(ext)s\" --all-subs --sub-format ass --embed-subs --merge-output-format mkv --playlist-items $Playlist_Items"
      ],
      "execution_count": null,
      "outputs": []
    },
    {
      "cell_type": "code",
      "metadata": {
        "id": "vrzzLDpWTeWY"
      },
      "source": [
        "#@title MKVMerge Arguments (WIP) { display-mode: \"code\" }\n",
        "!mkvmerge"
      ],
      "execution_count": null,
      "outputs": []
    }
  ]
}